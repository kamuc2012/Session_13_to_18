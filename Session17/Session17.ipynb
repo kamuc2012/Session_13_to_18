{
 "cells": [
  {
   "cell_type": "markdown",
   "metadata": {},
   "source": [
    "# Statistics 4\n",
    "\n",
    "**Problem Statement 1**\n",
    "\n",
    "Is gender independent of education level? A random sample of 395 people were surveyed and each person was asked to report the highest education level they obtained.\n",
    "\n",
    "The data that resulted from the survey is summarized in the following table:\n",
    "\n",
    "<pre>\n",
    "        High-School     Bachelor    Masters     Ph.D.   Total\n",
    "Female  60              54          46          41      201\n",
    "Male    40              44          53          57      194\n",
    "Total   100             98          99          98      395\n",
    "</pre>\n",
    "\n",
    "Question: Are gender and education level dependent at 5% level of significance? In other words, given the data collected above, is there a relationship between the gender of an individual and the level of education that they have obtained?"
   ]
  },
  {
   "cell_type": "code",
   "execution_count": 11,
   "metadata": {},
   "outputs": [
    {
     "name": "stdout",
     "output_type": "stream",
     "text": [
      "     Education  Female  Male\n",
      "0  High School      60    40\n",
      "1     Bachelor      54    44\n",
      "2      Masters      46    53\n",
      "3          PHD      41    57\n",
      "\n",
      "==================================================\n",
      "\n",
      "     Education  Female  Male  Mean_Female  Mean_Male  StdDev_Female  \\\n",
      "0  High School      60    40        50.25       48.5       8.421203   \n",
      "1     Bachelor      54    44        50.25       48.5       8.421203   \n",
      "2      Masters      46    53        50.25       48.5       8.421203   \n",
      "3          PHD      41    57        50.25       48.5       8.421203   \n",
      "\n",
      "   StdDev_Male  Z_Female    Z_Male  P_Female    P_Male  \n",
      "0     7.852813  1.336903 -1.249865  0.909373  0.105674  \n",
      "1     7.852813  0.514193 -0.661693  0.696442  0.254084  \n",
      "2     7.852813 -0.582752  0.661693  0.280030  0.745916  \n",
      "3     7.852813 -1.268344  1.249865  0.102338  0.894326  \n",
      "\n",
      "==================================================\n",
      "\n",
      "From the above data analysis - we can conclude that education level depends on the gender.\n",
      "\n",
      "\n",
      "Male population is higher than Femal population for education level at Masters AND Ph.D.\n",
      "Femal population is higher than Male population for education level High-School AND Bachelor\n"
     ]
    }
   ],
   "source": [
    "import pandas as pd\n",
    "import scipy.stats as stats\n",
    "\n",
    "# Creating data frame with provided dataset\n",
    "education = [\"High School\", \"Bachelor\", \"Masters\", \"PHD\"]\n",
    "female = [60, 54, 46, 41]\n",
    "male = [40, 44, 53, 57]\n",
    "df = pd.DataFrame({\"Education\": education, \"Female\": female, \"Male\": male})\n",
    "print(df)\n",
    "print(\"\\n\", \"=\"*50, \"\\n\", sep=\"\")\n",
    "\n",
    "# Calculate Mean, Standard Deviation, ZScore and P values\n",
    "df[\"Mean_Female\"] = df[\"Female\"].mean()\n",
    "df[\"Mean_Male\"] = df[\"Male\"].mean()\n",
    "\n",
    "df[\"StdDev_Female\"] = df[\"Female\"].std()\n",
    "df[\"StdDev_Male\"] = df[\"Male\"].std()\n",
    "\n",
    "df[\"Z_Female\"] = stats.zscore(df[\"Female\"])\n",
    "df[\"Z_Male\"] = stats.zscore(df[\"Male\"])\n",
    "\n",
    "df[\"P_Female\"] = [stats.norm.cdf(pval) for pval in stats.zscore(df[\"Female\"])]\n",
    "df[\"P_Male\"] = [stats.norm.cdf(pval) for pval in stats.zscore(df[\"Male\"])]\n",
    "\n",
    "print(df)\n",
    "print(\"\\n\", \"=\"*50, \"\\n\", sep=\"\")\n",
    "\n",
    "print(\"From the above data analysis - we can conclude that education level depends on the gender.\\n\\n\")\n",
    "\n",
    "print(\"Male population is higher than Femal population for education level at Masters AND Ph.D.\")\n",
    "print(\"Femal population is higher than Male population for education level High-School AND Bachelor\")"
   ]
  },
  {
   "cell_type": "markdown",
   "metadata": {},
   "source": [
    "**Problem Statement 2**\n",
    "\n",
    "Using the following data, perform a one-way analysis of variance using α=.05.\n",
    "\n",
    "Write up the results in APA format.\n",
    "\n",
    "[Group1: 51, 45, 33, 45, 67]<br />\n",
    "[Group2: 23, 43, 23, 43, 45]<br />\n",
    "[Group3: 56, 76, 74, 87, 56]"
   ]
  },
  {
   "cell_type": "code",
   "execution_count": 13,
   "metadata": {},
   "outputs": [
    {
     "name": "stdout",
     "output_type": "stream",
     "text": [
      "   Group1  Group2  Group3\n",
      "0      51      23      56\n",
      "1      45      43      76\n",
      "2      33      23      74\n",
      "3      45      43      87\n",
      "4      67      45      56\n",
      "\n",
      "==================================================\n",
      "\n"
     ]
    },
    {
     "data": {
      "text/plain": [
       "'\\nAnswer:\\nH0:mean_G1 = mean_G2 = mean_G3\\nH1:mean_G1 != mean_G2 != mean_G3\\n\\nmean1=(51+ 45+ 33+ 45+ 67)/5\\nmean1\\nmean2=(23+ 43+ 23+ 43+ 45)/5\\nmean2\\nmean3=(56+ 76+ 74+ 87+ 56)/5\\nmean3\\n\\nvar=(((51-mean1)**2)+((45-mean1)**2)+((33-mean1)**2)+((45-mean1)**2)+((67-mean1)**2))/4\\nvar2=(((23-mean2)**2)+((43-mean2)**2)+((23-mean2)**2)+((43-mean2)**2)+((45-mean2)**2))/4\\nvar3=(((56-mean3)**2)+((76-mean3)**2)+((74-mean3)**2)+((87-mean3)**2)+((56-mean3)**2))/4\\n\\nprint(var,var2,var3)\\n\\nMS_error=(153.2+128.8+183.2)/3=155.07\\ndf_error=15−3=12\\nSS_error=(155.07)(15−3)=1860.8\\n\\nGrand mean,  x_bar_grand=(48.2+35.4+69.8)/3=51.13\\n\\n group mean grand mean deviations sq deviations\\n       48.2      51.13      -2.93          8.58\\n       35.4      51.13     -15.73        247.43\\n       69.8      51.13      18.67        348.57\\n       \\nVar_means=(604.58)/3−1=302.29\\n\\nMS_between=(302.29)*(5)=1511.45\\n\\nTest statistic and critical value\\n\\n    F=1511.45/155.07=9.75\\n    Fcritical(2,12)=3.89 (using F table)\\n\\nsince 9.75>3.89, Hence we reject H0\\n\\nANOVA table\\nsource  SS      df      MS     F\\ngroup   1057.5   2    528.75 3.93\\nerror  11703.82 87    134.53\\ntotal  12761.32\\n\\nEffect size\\n    nita_2=1057.5/12761.32=0.08\\nAPA write up \\n    F(2, 12)=9.75, p <0.05, nita_2=0.62.\\n'"
      ]
     },
     "execution_count": 13,
     "metadata": {},
     "output_type": "execute_result"
    }
   ],
   "source": [
    "import pandas as pd\n",
    "import scipy.stats as stats\n",
    "\n",
    "df = pd.DataFrame({\"Group1\": [51, 45, 33, 45, 67], \"Group2\": [23, 43, 23, 43, 45], \"Group3\": [56, 76, 74, 87, 56]})\n",
    "print(df)\n",
    "print(\"\\n\", \"=\"*50, \"\\n\", sep=\"\")\n",
    "\n",
    "\"\"\"\n",
    "Answer:\n",
    "H0:mean_G1 = mean_G2 = mean_G3\n",
    "H1:mean_G1 != mean_G2 != mean_G3\n",
    "\n",
    "mean1=(51+ 45+ 33+ 45+ 67)/5\n",
    "mean1\n",
    "mean2=(23+ 43+ 23+ 43+ 45)/5\n",
    "mean2\n",
    "mean3=(56+ 76+ 74+ 87+ 56)/5\n",
    "mean3\n",
    "\n",
    "var=(((51-mean1)**2)+((45-mean1)**2)+((33-mean1)**2)+((45-mean1)**2)+((67-mean1)**2))/4\n",
    "var2=(((23-mean2)**2)+((43-mean2)**2)+((23-mean2)**2)+((43-mean2)**2)+((45-mean2)**2))/4\n",
    "var3=(((56-mean3)**2)+((76-mean3)**2)+((74-mean3)**2)+((87-mean3)**2)+((56-mean3)**2))/4\n",
    "\n",
    "print(var,var2,var3)\n",
    "\n",
    "MS_error=(153.2+128.8+183.2)/3=155.07\n",
    "df_error=15−3=12\n",
    "SS_error=(155.07)(15−3)=1860.8\n",
    "\n",
    "Grand mean,  x_bar_grand=(48.2+35.4+69.8)/3=51.13\n",
    "\n",
    " group mean grand mean deviations sq deviations\n",
    "       48.2      51.13      -2.93          8.58\n",
    "       35.4      51.13     -15.73        247.43\n",
    "       69.8      51.13      18.67        348.57\n",
    "       \n",
    "Var_means=(604.58)/3−1=302.29\n",
    "\n",
    "MS_between=(302.29)*(5)=1511.45\n",
    "\n",
    "Test statistic and critical value\n",
    "\n",
    "    F=1511.45/155.07=9.75\n",
    "    Fcritical(2,12)=3.89 (using F table)\n",
    "\n",
    "since 9.75>3.89, Hence we reject H0\n",
    "\n",
    "ANOVA table\n",
    "source  SS      df      MS     F\n",
    "group   1057.5   2    528.75 3.93\n",
    "error  11703.82 87    134.53\n",
    "total  12761.32\n",
    "\n",
    "Effect size\n",
    "    nita_2=1057.5/12761.32=0.08\n",
    "APA write up \n",
    "    F(2, 12)=9.75, p <0.05, nita_2=0.62.\n",
    "\"\"\""
   ]
  },
  {
   "cell_type": "markdown",
   "metadata": {},
   "source": [
    "**Problem Statement 3**\n",
    "\n",
    "Calculate F Test for given 10, 20, 30, 40, 50 and 5, 10, 15, 20, 25.\n",
    "\n",
    "For 10, 20, 30, 40, 50:"
   ]
  },
  {
   "cell_type": "code",
   "execution_count": 14,
   "metadata": {},
   "outputs": [
    {
     "name": "stdout",
     "output_type": "stream",
     "text": [
      "F Test value for [10, 20, 30, 40, 50] and [5, 10, 15, 20, 25] is 4.0\n"
     ]
    }
   ],
   "source": [
    "group1 = [10, 20, 30, 40, 50]\n",
    "group1_total_inputs = len(group1)\n",
    "group1_mean = st.mean(group1)\n",
    "group1_sd = st.stdev(group1)\n",
    "group1_varience = st.variance(group1)\n",
    "\n",
    "group2 = [5, 10, 15, 20, 25]\n",
    "group2_total_inputs = len(group2)\n",
    "group2_mean = st.mean(group2)\n",
    "group2_sd = st.stdev(group2)\n",
    "group2_varience = st.variance(group2)\n",
    "\n",
    "print(\"F Test value for\", group1, \"and\", group2, \"is\", group1_varience / group2_varience)"
   ]
  }
 ],
 "metadata": {
  "kernelspec": {
   "display_name": "Python 3",
   "language": "python",
   "name": "python3"
  },
  "language_info": {
   "codemirror_mode": {
    "name": "ipython",
    "version": 3
   },
   "file_extension": ".py",
   "mimetype": "text/x-python",
   "name": "python",
   "nbconvert_exporter": "python",
   "pygments_lexer": "ipython3",
   "version": "3.7.1"
  }
 },
 "nbformat": 4,
 "nbformat_minor": 2
}
