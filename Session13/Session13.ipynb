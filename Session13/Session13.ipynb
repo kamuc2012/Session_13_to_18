{
 "cells": [
  {
   "cell_type": "markdown",
   "metadata": {},
   "source": [
    "# Statistics 1\n",
    "\n",
    "**Problem Statement 1**\n",
    "\n",
    "You survey households in your area to find the average rent they are paying. Find the standard deviation from the following data:\n",
    "\n",
    "<pre>$1550, $1700, $900, $850, $1000, $950.<pre>"
   ]
  },
  {
   "cell_type": "code",
   "execution_count": 1,
   "metadata": {},
   "outputs": [
    {
     "name": "stdout",
     "output_type": "stream",
     "text": [
      "Standard Deviation = 367.9900360969936\n"
     ]
    }
   ],
   "source": [
    "import statistics as st\n",
    "\n",
    "data = [1550,1700,900,850,1000,950]\n",
    "print(\"Standard Deviation =\", st.stdev(data))"
   ]
  },
  {
   "cell_type": "markdown",
   "metadata": {},
   "source": [
    "**Problem Statement 2**\n",
    "\n",
    "Find the variance for the following set of data representing trees in California (heights in feet):\n",
    "\n",
    "3, 21, 98, 203, 17, 9"
   ]
  },
  {
   "cell_type": "code",
   "execution_count": 2,
   "metadata": {},
   "outputs": [
    {
     "name": "stdout",
     "output_type": "stream",
     "text": [
      "Variance = 6219.9\n"
     ]
    }
   ],
   "source": [
    "data = [3, 21, 98, 203, 17, 9]\n",
    "print(\"Variance =\", st.variance(data))"
   ]
  },
  {
   "cell_type": "markdown",
   "metadata": {},
   "source": [
    "**Problem Statement 3**\n",
    "\n",
    "In a class on 100 students, 80 students passed in all subjects, 10 failed in one subject, 7 failed in two subjects and 3 failed in three subjects. \n",
    "\n",
    "Find the probability distribution of the variable for number of subjects a student from the given class has failed in."
   ]
  },
  {
   "cell_type": "code",
   "execution_count": 5,
   "metadata": {},
   "outputs": [
    {
     "name": "stdout",
     "output_type": "stream",
     "text": [
      "The probability distribution of the variable for number of subjects a student from the given class has failed in: \n",
      "\n",
      "X    0    1     2     3\n",
      "P(X)  0.8  0.1  0.07  0.03\n"
     ]
    }
   ],
   "source": [
    "import pandas as pd\n",
    "\n",
    "class_strength = 100\n",
    "passed_all_subjects = 80\n",
    "failed_one_subject = 10\n",
    "failed_two_subjects = 7\n",
    "failed_three_subjects = 3\n",
    "\n",
    "prob_failing_zero_subject = float(passed_all_subjects) / class_strength\n",
    "prob_failing_one_subject = float(failed_one_subject) / class_strength\n",
    "prob_failing_two_subjects = float(failed_two_subjects) / class_strength\n",
    "prob_failing_three_subjects = float(failed_three_subjects) / class_strength\n",
    "\n",
    "print(\"The probability distribution of the variable for number of subjects a student from the given class has failed in: \\n\")\n",
    "\n",
    "prob_distribution_data = {\"X\": [\"P(X)\"], \"0\": [prob_failing_zero_subject], \"1\": [prob_failing_one_subject], \"2\": [prob_failing_two_subjects], \"3\": [prob_failing_three_subjects]}\n",
    "df = pd.DataFrame(data=prob_distribution_data)\n",
    "\n",
    "print(df.to_string(index=False))"
   ]
  }
 ],
 "metadata": {
  "kernelspec": {
   "display_name": "Python 3",
   "language": "python",
   "name": "python3"
  },
  "language_info": {
   "codemirror_mode": {
    "name": "ipython",
    "version": 3
   },
   "file_extension": ".py",
   "mimetype": "text/x-python",
   "name": "python",
   "nbconvert_exporter": "python",
   "pygments_lexer": "ipython3",
   "version": "3.7.1"
  }
 },
 "nbformat": 4,
 "nbformat_minor": 2
}
