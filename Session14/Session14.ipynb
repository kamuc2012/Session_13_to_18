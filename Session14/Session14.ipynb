{
 "cells": [
  {
   "cell_type": "markdown",
   "metadata": {},
   "source": [
    "# Statistics 2\n",
    "\n",
    "**Problem Statement 1**\n",
    "\n",
    "A test is conducted which is consisting of 20 MCQs (multiple choices questions) with every MCQ having its four options out of which only one is correct.\n",
    "\n",
    "Determine the probability that a person undertaking that test has answered exactly 5 questions wrong."
   ]
  },
  {
   "cell_type": "code",
   "execution_count": 1,
   "metadata": {},
   "outputs": [
    {
     "name": "stdout",
     "output_type": "stream",
     "text": [
      "The probability that a person undertaking that test has answered exactly 5 questions wrong is 3.4264958230778435e-06\n"
     ]
    }
   ],
   "source": [
    "from scipy import stats\n",
    "\n",
    "total_num_of_question = 20\n",
    "p_wrong_answer = 3/4\n",
    "probability = stats.binom.pmf(5, total_num_of_question, p_wrong_answer)\n",
    "\n",
    "print(\"The probability that a person undertaking that test has answered exactly 5 questions wrong is\", probability)"
   ]
  },
  {
   "cell_type": "markdown",
   "metadata": {},
   "source": [
    "**Problem Statement 2**\n",
    "\n",
    "A die marked A to E is rolled 50 times. Find the probability of getting a “D” exactly 5 times."
   ]
  },
  {
   "cell_type": "code",
   "execution_count": 2,
   "metadata": {},
   "outputs": [
    {
     "name": "stdout",
     "output_type": "stream",
     "text": [
      "The probability of getting a “D” exactly 5 times is 0.029531204310523224\n"
     ]
    }
   ],
   "source": [
    "total_num_of_rolls = 50\n",
    "p_D = 1/5\n",
    "probability = stats.binom.pmf(5, total_num_of_rolls, p_D)\n",
    "\n",
    "print(\"The probability of getting a “D” exactly 5 times is\", probability)"
   ]
  },
  {
   "cell_type": "markdown",
   "metadata": {},
   "source": [
    "**Problem Statement 3**\n",
    "\n",
    "Two balls are drawn at random in succession without replacement from an urn containing 4 red balls and 6 black balls.\n",
    "\n",
    "Find the probabilities of all the possible outcomes."
   ]
  },
  {
   "cell_type": "code",
   "execution_count": 3,
   "metadata": {},
   "outputs": [
    {
     "name": "stdout",
     "output_type": "stream",
     "text": [
      "The probability of (R,R) is 0.13\n",
      "The probability of (R,B) is 0.27\n",
      "The probability of (B,R) is 0.27\n",
      "The probability of (B,B) is 0.33\n"
     ]
    }
   ],
   "source": [
    "total_num_of_balls = 10\n",
    "total_red_balls = 4\n",
    "total_black_balls = 6\n",
    "\n",
    "# Possible outcomes could be (R,R), (R,B), (B,R), (B,B)\n",
    "R_R = (total_red_balls/total_num_of_balls) * (total_red_balls-1)/(total_num_of_balls-1)\n",
    "R_B = (total_red_balls/total_num_of_balls) * (total_black_balls)/(total_num_of_balls-1)\n",
    "B_R = (total_black_balls/total_num_of_balls) * (total_red_balls)/(total_num_of_balls-1)\n",
    "B_B = (total_black_balls/total_num_of_balls) * (total_black_balls-1)/(total_num_of_balls-1)\n",
    "\n",
    "print(\"The probability of (R,R) is\", round(R_R, 2))\n",
    "print(\"The probability of (R,B) is\", round(R_B, 2))\n",
    "print(\"The probability of (B,R) is\", round(B_R, 2))\n",
    "print(\"The probability of (B,B) is\", round(B_B, 2))"
   ]
  }
 ],
 "metadata": {
  "kernelspec": {
   "display_name": "Python 3",
   "language": "python",
   "name": "python3"
  },
  "language_info": {
   "codemirror_mode": {
    "name": "ipython",
    "version": 3
   },
   "file_extension": ".py",
   "mimetype": "text/x-python",
   "name": "python",
   "nbconvert_exporter": "python",
   "pygments_lexer": "ipython3",
   "version": "3.7.1"
  }
 },
 "nbformat": 4,
 "nbformat_minor": 2
}
