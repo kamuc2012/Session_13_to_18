{
 "cells": [
  {
   "cell_type": "markdown",
   "metadata": {},
   "source": [
    "# Statistics 3\n",
    "\n",
    "Blood glucose levels for obese patients have a mean of 100 with a standard deviation of 15. \n",
    "A researcher thinks that a diet high in raw cornstarch will have a positive effect on blood glucose levels. \n",
    "A sample of 36 patients who have tried the raw cornstarch diet have a mean glucose level of 108.\n",
    "\n",
    "Test the hypothesis that the raw cornstarch had an effect or not."
   ]
  },
  {
   "cell_type": "code",
   "execution_count": 2,
   "metadata": {},
   "outputs": [
    {
     "name": "stdout",
     "output_type": "stream",
     "text": [
      "Let H0: μ= 100,  Stating the hypothesis. Given, The population mean is 100.\n",
      "Let H1: μ > 100 \n",
      "Probability of having value less than 108 is :  0.9993128620620841\n",
      "Probability of having value more than or equals to 108 is:  0.0006871379379158604\n",
      "\n",
      "Probability of having value more than or equals to 108 is less than 0.05 so we will reject the Null hypothesis. There is raw cornstarch effect.\n"
     ]
    }
   ],
   "source": [
    "import scipy.stats as st\n",
    "\n",
    "print(\"Let H0: μ= 100,  Stating the hypothesis. Given, The population mean is 100.\")\n",
    "print(\"Let H1: μ > 100 \")\n",
    "\n",
    "significance_level = 0.05 # It is not given in the problem so let’s assume it as 5% (0.05).\n",
    "m = 100 # Blood glucose levels for obese patients have a mean of 100. \n",
    "s = 15 # Standard deviation of 15\n",
    "p = 36 # A sample of 36 patients\n",
    "x = 108 # Patients who have tried the raw cornstarch diet have a mean glucose level of 108.\n",
    "Z = (x-m) / (s/(p**0.5)) # Z-Score for this set of data\n",
    "p_value = st.norm.cdf(Z) # By looking at z- table, Probability of having value less than 108.\n",
    "p_value_comp = 1-p_value # Probability of having value more than or equals to 108.\n",
    "\n",
    "print(\"Probability of having value less than 108 is : \",p_value)\n",
    "print(\"Probability of having value more than or equals to 108 is: \",p_value_comp)\n",
    "print()\n",
    "\n",
    "if(p_value_comp < significance_level ):\n",
    "    print(\"Probability of having value more than or equals to 108 is less than \" + str(significance_level) + \" so we will reject the Null hypothesis. There is raw cornstarch effect.\")\n",
    "else:\n",
    "    print(\"Probability of having value less than 108 is not less than \" + str(significance_level) + \" so we will not reject the Null hypothesis. There is no raw cornstarch effect.\")"
   ]
  },
  {
   "cell_type": "markdown",
   "metadata": {},
   "source": [
    "1. In one state, 52% of the voters are Republicans, and 48% are Democrats. \n",
    "In a second state, 47% of the voters are Republicans, and 53% are Democrats.\n",
    "Suppose a simple random sample of 100 voters are surveyed from each state.\n",
    "What is the probability that the survey will show a greater percentage of Republican voters in the second state than in the first state?"
   ]
  },
  {
   "cell_type": "code",
   "execution_count": 3,
   "metadata": {},
   "outputs": [
    {
     "name": "stdout",
     "output_type": "stream",
     "text": [
      "The proportion of Republican voters in the first state ( 52% ): P1  = 0.52\n",
      "The proportion of Republican voters in the second state ( 47% ): P2 = 0.47\n",
      "\n",
      "The number of voters sampled from the first state: n1 = 100\n",
      "The number of voters sampled from the second state: n2 = 100\n",
      "\n",
      "The mean of the difference in sample proportions: E(p1-p2) = P1-P2 = 0.05\n",
      "\n",
      "The standard deviation of the difference, σd = sqrt{[P1(1-P1)/n1] + [P2(1-P2)/n2]}, σd = 0.07061869440877536\n",
      "\n",
      "We need to find if the probability p1 - p2 is less than zero. To find this probability, we need to transform the random variable (p1 - p2) into a z-score.\n",
      "\n",
      "Z-Score using mean difference and calculated standard deviation: -0.7080278164104213\n",
      "\n",
      "The probability that the survey will show a greater percentage of Republican voters in the second state than in the first state is: 0.24\n"
     ]
    }
   ],
   "source": [
    "P1 = 0.52\n",
    "P2 = 0.47\n",
    "print(\"The proportion of Republican voters in the first state ( 52% ): P1  =\", P1)\n",
    "print(\"The proportion of Republican voters in the second state ( 47% ): P2 =\", P2) \n",
    "print()\n",
    "\n",
    "n1 = 100\n",
    "n2 = 100\n",
    "print(\"The number of voters sampled from the first state: n1 =\", n1)\n",
    "print(\"The number of voters sampled from the second state: n2 =\", n2)\n",
    "print()\n",
    "\n",
    "md = P1-P2\n",
    "print(\"The mean of the difference in sample proportions: E(p1-p2) = P1-P2 =\", round(md,2))\n",
    "print()\n",
    "\n",
    "sd = ((P1*(1-P1)/n1) + (P2*(1-P2)/n2))**0.5\n",
    "print(\"The standard deviation of the difference, σd = sqrt{[P1(1-P1)/n1] + [P2(1-P2)/n2]}, σd =\", sd)\n",
    "print()\n",
    "\n",
    "print(\"We need to find if the probability p1 - p2 is less than zero. To find this probability, we need to transform the random variable (p1 - p2) into a z-score.\")\n",
    "print()\n",
    "\n",
    "Z =  (0-md)/sd #Finding Z-Score, z(p1-p2) using mean difference and calculated standard deviation\n",
    "print(\"Z-Score using mean difference and calculated standard deviation:\", Z)\n",
    "print()\n",
    "\n",
    "p_value = st.norm.cdf(Z)\n",
    "print(\"The probability that the survey will show a greater percentage of Republican voters in the second state than in the first state is:\", round(p_value, 2))"
   ]
  },
  {
   "cell_type": "markdown",
   "metadata": {},
   "source": [
    "2. You take the SAT and score 1100. The mean score for the SAT is 1026 and the standard deviation is 209. \n",
    "How well did you score on the test compared to the average test taker?"
   ]
  },
  {
   "cell_type": "code",
   "execution_count": 5,
   "metadata": {},
   "outputs": [
    {
     "name": "stdout",
     "output_type": "stream",
     "text": [
      "I have scored higher than 63.835565843531896 % of test takers.\n"
     ]
    }
   ],
   "source": [
    "m = 1026 # The mean score for the SAT is 1026.\n",
    "s = 209 # The standard deviation is 209.\n",
    "x = 1100 # You take the SAT and score 1100.\n",
    "Z = (x-m)/s # Calculating Z - Score\n",
    "\n",
    "p_value = st.norm.cdf(Z) #The probability of given z-score\n",
    "print(\"I have scored higher than\", str(p_value*100), \"% of test takers.\")"
   ]
  }
 ],
 "metadata": {
  "kernelspec": {
   "display_name": "Python 3",
   "language": "python",
   "name": "python3"
  },
  "language_info": {
   "codemirror_mode": {
    "name": "ipython",
    "version": 3
   },
   "file_extension": ".py",
   "mimetype": "text/x-python",
   "name": "python",
   "nbconvert_exporter": "python",
   "pygments_lexer": "ipython3",
   "version": "3.7.1"
  }
 },
 "nbformat": 4,
 "nbformat_minor": 2
}
